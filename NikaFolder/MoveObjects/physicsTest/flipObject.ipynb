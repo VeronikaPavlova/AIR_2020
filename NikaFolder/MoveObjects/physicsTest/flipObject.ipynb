{
 "cells": [
  {
   "cell_type": "code",
   "execution_count": 1,
   "metadata": {
    "collapsed": true
   },
   "outputs": [],
   "source": [
    "import sys\n",
    "sys.path.append('../../build')\n",
    "import libry as ry\n",
    "from ipywidgets import interact\n",
    "import numpy as np\n",
    "import time\n"
   ]
  },
  {
   "cell_type": "code",
   "execution_count": 2,
   "outputs": [],
   "source": [
    "C = ry.Config()\n",
    "C.addFile('../../../scenarios/pandasTable.g')\n",
    "V = ry.ConfigurationViewer()\n",
    "cameraFrame = C.frame(\"camera\")\n",
    "\n",
    "q0 = C.getJointState()\n",
    "R_gripper = C.frame(\"R_gripper\")\n",
    "R_gripper.setContact(1)\n",
    "L_gripper = C.frame(\"L_gripper\")\n",
    "L_gripper.setContact(1)\n",
    "\n",
    "V.setConfiguration(C)"
   ],
   "metadata": {
    "collapsed": false,
    "pycharm": {
     "name": "#%%\n"
    }
   }
  },
  {
   "cell_type": "code",
   "execution_count": 3,
   "outputs": [],
   "source": [
    "#set  flat object on top of a table on the table edge\n",
    "tab = C.addFrame(\"table2\")\n",
    "tab.setShape(ry.ST.ssBox, [0.5, 0.5, 0.5, 0])\n",
    "#tab.setColor([0,0,1])\n",
    "tab.setMass(0.2)\n",
    "tab.setPosition([.0, .3, .9])\n",
    "\n",
    "flip = C.addFrame(\"flipObject\")\n",
    "flip.setColor([0, 0, 1])\n",
    "flip.setShape(ry.ST.ssBox, [0.4, 0.55, 0.01, 0.01])\n",
    "flip.setPosition([0, .1, 1.15])\n",
    "flip.setMass(10)\n",
    "flip.setContact(1)\n",
    "\n",
    "#@interact(x=(-1, 1, 0.1), y = (-1, 1, 0.1), z = (0, 2, 0.1), a = (0, 1, 0.1))\n",
    "#def set_position(x, y, z):\n",
    "#    flip.setPosition([x, y, z])\n",
    "V.setConfiguration(C)\n",
    "\n",
    "X0 = C.getFrameState()"
   ],
   "metadata": {
    "collapsed": false,
    "pycharm": {
     "name": "#%%\n"
    }
   }
  },
  {
   "cell_type": "code",
   "execution_count": 4,
   "outputs": [],
   "source": [
    "C.setFrameState(X0)\n",
    "IK = C.komo_IK(False)\n",
    "IK.addObjective(type=ry.OT.eq, feature=ry.FS.scalarProductXX, frames=['flipObject', 'R_gripperCenter'], target = [1])\n",
    "IK.addObjective(type=ry.OT.eq, feature=ry.FS.scalarProductZZ, frames=['flipObject', 'R_gripperCenter'], target = [0])\n",
    "IK.addObjective(type=ry.OT.eq, feature=ry.FS.positionRel, frames=['flipObject','R_gripperCenter'], target=[0 , .2, -.2])\n",
    "IK.optimize()\n",
    "C.setFrameState( IK.getConfiguration(0) )\n",
    "q_below = C.getJointState()"
   ],
   "metadata": {
    "collapsed": false,
    "pycharm": {
     "name": "#%%\n"
    }
   }
  },
  {
   "cell_type": "code",
   "execution_count": 5,
   "outputs": [],
   "source": [
    "C.setFrameState(X0)\n",
    "IK = C.komo_IK(False)\n",
    "IK.addObjective(type=ry.OT.eq, feature=ry.FS.scalarProductXX, frames=['flipObject', 'R_gripperCenter'], target = [1])\n",
    "IK.addObjective(type=ry.OT.eq, feature=ry.FS.scalarProductZZ, frames=['flipObject', 'R_gripperCenter'], target = [0])\n",
    "IK.addObjective(type=ry.OT.eq, feature=ry.FS.positionRel, frames=['flipObject','R_gripperCenter'], target=[0 , -.4, -.2])\n",
    "IK.optimize()\n",
    "C.setFrameState( IK.getConfiguration(0) )\n",
    "q_above = C.getJointState()"
   ],
   "metadata": {
    "collapsed": false,
    "pycharm": {
     "name": "#%%\n"
    }
   }
  },
  {
   "cell_type": "code",
   "execution_count": 6,
   "outputs": [
    {
     "data": {
      "text/plain": "<libry.CameraViewSensor at 0x7ffb26b54998>"
     },
     "execution_count": 6,
     "metadata": {},
     "output_type": "execute_result"
    }
   ],
   "source": [
    "S = C.simulation(ry.SimulatorEngine.physx, True)\n",
    "S.addSensor(\"camera\")"
   ],
   "metadata": {
    "collapsed": false,
    "pycharm": {
     "name": "#%%\n"
    }
   }
  },
  {
   "cell_type": "code",
   "execution_count": null,
   "outputs": [],
   "source": [
    "T = 10\n",
    "tau = .01\n",
    "\n",
    "#flip the object - or try it :D\n",
    "C.setJointState(q_below)\n",
    "\n",
    "komo = C.komo_path(1, T, T * tau, True)\n",
    "komo.addObjective(time=[1.], feature=ry.FS.qItself, type=ry.OT.eq, target=q_above, scale=[1e2], order=0)\n",
    "komo.addObjective(time=[1.], feature=ry.FS.qItself, type=ry.OT.eq, scale=[1e2], order=1)\n",
    "komo.optimize()\n",
    "komo.getReport()\n",
    "t = 0\n",
    "time.sleep(3)\n",
    "while True:\n",
    "    t += 1\n",
    "    if t < T:\n",
    "        C.setFrameState(komo.getConfiguration(t))\n",
    "    else:\n",
    "        C.setJointState(q_above)\n",
    "    q = C.getJointState()\n",
    "    S.step(q, tau, ry.ControlMode.position)\n",
    "    time.sleep(0.2)\n",
    "\n",
    "\n",
    "\n"
   ],
   "metadata": {
    "collapsed": false,
    "pycharm": {
     "name": "#%%\n",
     "is_executing": true
    }
   }
  }
 ],
 "metadata": {
  "kernelspec": {
   "name": "pycharm-8b9e1f39",
   "language": "python",
   "display_name": "PyCharm (robotics-course)"
  },
  "language_info": {
   "codemirror_mode": {
    "name": "ipython",
    "version": 2
   },
   "file_extension": ".py",
   "mimetype": "text/x-python",
   "name": "python",
   "nbconvert_exporter": "python",
   "pygments_lexer": "ipython2",
   "version": "2.7.6"
  }
 },
 "nbformat": 4,
 "nbformat_minor": 0
}