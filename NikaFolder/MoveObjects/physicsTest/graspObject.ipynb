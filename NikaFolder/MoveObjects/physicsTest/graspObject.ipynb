{
 "cells": [
  {
   "cell_type": "code",
   "execution_count": 1,
   "metadata": {
    "collapsed": true
   },
   "outputs": [],
   "source": [
    "import sys\n",
    "sys.path.append('../../build')\n",
    "import libry as ry\n",
    "\n",
    "import cv2 as cv\n",
    "from ipywidgets import interact\n",
    "import numpy as np\n",
    "import time"
   ]
  },
  {
   "cell_type": "code",
   "execution_count": 2,
   "outputs": [],
   "source": [
    "C = ry.Config()\n",
    "C.addFile('../../../scenarios/pandasTable.g')\n",
    "V = ry.ConfigurationViewer()\n",
    "cameraFrame = C.frame(\"camera\")\n",
    "\n",
    "q0 = C.getJointState()\n",
    "R_gripper = C.frame(\"R_gripper\")\n",
    "R_gripper.setContact(1)\n",
    "L_gripper = C.frame(\"L_gripper\")\n",
    "L_gripper.setContact(1)\n",
    "\n",
    "V.setConfiguration(C)"
   ],
   "metadata": {
    "collapsed": false,
    "pycharm": {
     "name": "#%%\n"
    }
   }
  },
  {
   "cell_type": "code",
   "execution_count": 3,
   "outputs": [],
   "source": [
    "#create object to grasp\n",
    "obj = C.addFrame(\"Object\")\n",
    "obj.setColor([1, 0, 0])\n",
    "obj.setShape(ry.ST.ssBox, [0.2, 0.05, 0.1, 0.01])\n",
    "obj.setPosition([.7, 0, .7])\n",
    "obj.setMass(1)\n",
    "obj.setContact(1)\n",
    "\n",
    "#@interact(x=(-1, 1, 0.1), y = (-1, 1, 0.1), z = (-1, 2, 0.1), a = (0, 1, 0.1))\n",
    "#def set_position(x, y, z):\n",
    "#    obj.setPosition([x, y, z])\n",
    "#    V.setConfiguration(C)\n",
    "\n",
    "X0 = C.getFrameState()"
   ],
   "metadata": {
    "collapsed": false,
    "pycharm": {
     "name": "#%%\n"
    }
   }
  },
  {
   "cell_type": "code",
   "execution_count": 4,
   "outputs": [],
   "source": [
    "#S = C.simulation(ry.SimulatorEngine.physx, True)\n",
    "#S.addSensor(\"camera\")"
   ],
   "metadata": {
    "collapsed": false,
    "pycharm": {
     "name": "#%%\n"
    }
   }
  },
  {
   "cell_type": "code",
   "execution_count": 5,
   "outputs": [],
   "source": [
    "C.setFrameState(X0)\n",
    "IK = C.komo_IK(False)\n",
    "#IK.addObjective(type=ry.OT.eq, feature=ry.FS.scalarProductXX, frames=['Object', 'R_gripperCenter'], target = [0])\n",
    "IK.addObjective(type=ry.OT.eq, feature=ry.FS.scalarProductYY, frames=['Object', 'R_gripperCenter'], target = [0])\n",
    "IK.addObjective(type=ry.OT.eq, feature=ry.FS.scalarProductZZ, frames=['Object', 'R_gripperCenter'], target = [1])\n",
    "IK.addObjective(type=ry.OT.eq, feature=ry.FS.positionRel, frames=['Object','R_gripperCenter'], target=[0 , 0, -.05])\n",
    "IK.addObjective(type=ry.OT.eq, feature=ry.FS.accumulatedCollisions, frames=['Object','R_finger1'], scale = [1e2])\n",
    "#IK.addObjective(type=ry.OT.eq, feature=ry.FS.positionDiff, frames=['Object','R_finger1'])\n",
    "IK.optimize()\n",
    "C.setFrameState( IK.getConfiguration(0) )\n",
    "q_below = C.getJointState()\n",
    "\n",
    "V.setConfiguration(C)"
   ],
   "metadata": {
    "collapsed": false,
    "pycharm": {
     "name": "#%%\n"
    }
   }
  },
  {
   "cell_type": "code",
   "execution_count": 6,
   "outputs": [
    {
     "data": {
      "text/plain": "<libry.CameraViewSensor at 0x7fdcc4a8f298>"
     },
     "execution_count": 6,
     "metadata": {},
     "output_type": "execute_result"
    }
   ],
   "source": [
    "S = C.simulation(ry.SimulatorEngine.physx, True)\n",
    "S.addSensor(\"camera\")"
   ],
   "metadata": {
    "collapsed": false,
    "pycharm": {
     "name": "#%%\n"
    }
   }
  },
  {
   "cell_type": "code",
   "execution_count": 7,
   "outputs": [
    {
     "name": "stdout",
     "output_type": "stream",
     "text": [
      "(array([0.]), array([[0., 0., 0., 0., 0., 0., 0., 0., 0., 0., 0., 0., 0., 0., 0., 0.]]))\n"
     ]
    }
   ],
   "source": [
    "coll = C.feature(ry.FS.accumulatedCollisions, [])\n",
    "C.computeCollisions()\n",
    "print(coll.eval(C))\n"
   ],
   "metadata": {
    "collapsed": false,
    "pycharm": {
     "name": "#%%\n"
    }
   }
  }
 ],
 "metadata": {
  "kernelspec": {
   "name": "pycharm-8b9e1f39",
   "language": "python",
   "display_name": "PyCharm (robotics-course)"
  },
  "language_info": {
   "codemirror_mode": {
    "name": "ipython",
    "version": 2
   },
   "file_extension": ".py",
   "mimetype": "text/x-python",
   "name": "python",
   "nbconvert_exporter": "python",
   "pygments_lexer": "ipython2",
   "version": "2.7.6"
  }
 },
 "nbformat": 4,
 "nbformat_minor": 0
}