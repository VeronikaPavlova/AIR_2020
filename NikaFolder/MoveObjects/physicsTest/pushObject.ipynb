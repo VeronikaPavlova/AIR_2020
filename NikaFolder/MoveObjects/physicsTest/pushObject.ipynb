{
 "cells": [
  {
   "cell_type": "code",
   "execution_count": 1,
   "metadata": {
    "collapsed": true
   },
   "outputs": [],
   "source": [
    "import sys\n",
    "sys.path.append('../../build')\n",
    "import libry as ry\n",
    "\n",
    "import cv2 as cv\n",
    "from ipywidgets import interact\n",
    "import numpy as np\n",
    "import time\n"
   ]
  },
  {
   "cell_type": "code",
   "execution_count": 2,
   "outputs": [],
   "source": [
    "C = ry.Config()\n",
    "C.addFile('../../../scenarios/pandasTable.g')\n",
    "V = ry.ConfigurationViewer()\n",
    "cameraFrame = C.frame(\"camera\")\n",
    "\n",
    "q0 = C.getJointState()\n",
    "R_gripper = C.frame(\"R_gripper\")\n",
    "R_gripper.setContact(1)\n",
    "L_gripper = C.frame(\"L_gripper\")\n",
    "L_gripper.setContact(1)\n",
    "\n",
    "V.setConfiguration(C)"
   ],
   "metadata": {
    "collapsed": false,
    "pycharm": {
     "name": "#%%\n"
    }
   }
  },
  {
   "cell_type": "code",
   "execution_count": 3,
   "outputs": [],
   "source": [
    "#set  flat object on top of a table on the table edge\n",
    "\n",
    "obj = C.addFrame(\"Objects\")\n",
    "obj.setColor([1, 0, 0])\n",
    "obj.setShape(ry.ST.ssBox, [0.2, 0.2, 0.1, 0.01])\n",
    "obj.setPosition([.7, 0, .7])\n",
    "obj.setMass(1)\n",
    "obj.setContact(1)\n",
    "\n",
    "#@interact(x=(-1, 1, 0.1), y = (-1, 1, 0.1), z = (-1, 2, 0.1), a = (0, 1, 0.1))\n",
    "#def set_position(x, y, z):\n",
    "#    obj.setPosition([x, y, z])\n",
    "#    V.setConfiguration(C)\n",
    "\n",
    "X0 = C.getFrameState()"
   ],
   "metadata": {
    "collapsed": false,
    "pycharm": {
     "name": "#%%\n"
    }
   }
  },
  {
   "cell_type": "code",
   "execution_count": 4,
   "outputs": [
    {
     "data": {
      "text/plain": "<libry.CameraViewSensor at 0x7f44483be6c0>"
     },
     "execution_count": 4,
     "metadata": {},
     "output_type": "execute_result"
    }
   ],
   "source": [
    "S = C.simulation(ry.SimulatorEngine.physx, True)\n",
    "S.addSensor(\"camera\")"
   ],
   "metadata": {
    "collapsed": false,
    "pycharm": {
     "name": "#%%\n"
    }
   }
  },
  {
   "cell_type": "code",
   "execution_count": 5,
   "outputs": [],
   "source": [
    "#the focal length\n",
    "f = 0.895\n",
    "f = f * 360.\n",
    "#the relative pose of the camera\n",
    "# pcl.setRelativePose('d(-90 0 0 1) t(-.08 .205 .115) d(26 1 0 0) d(-1 0 1 0) d(6 0 0 1) ')\n",
    "fxfypxpy = [f, f, 320., 180.]"
   ],
   "metadata": {
    "collapsed": false,
    "pycharm": {
     "name": "#%%\n"
    }
   }
  },
  {
   "cell_type": "code",
   "execution_count": 6,
   "outputs": [],
   "source": [
    "\n",
    "points = []\n",
    "tau = .01\n",
    "\n",
    "for t in range(300):\n",
    "    time.sleep(0.03)\n",
    "    #grab sensor readings from the simulation\n",
    "    q = S.get_q()\n",
    "    if t%10 == 0:\n",
    "\n",
    "        [rgb, depth] = S.getImageAndDepth()  #we don't need images with 100Hz, rendering is slow\n",
    "        points = S.depthData2pointCloud(depth, fxfypxpy)\n",
    "        cameraFrame.setPointCloud(points, rgb)\n",
    "        V.recopyMeshes(C)\n",
    "        V.setConfiguration(C)\n",
    "\n",
    "        #use hsv - simpler for color finding\n",
    "        hsv = cv.cvtColor(rgb, cv.COLOR_BGR2HSV)\n",
    "\n",
    "        lower_red = np.array([115, 100, 100])\n",
    "        upper_red = np.array([130, 255, 255])\n",
    "\n",
    "        mask = cv.inRange(hsv, lower_red, upper_red)\n",
    "\n",
    "        edges = cv.Canny(mask, 20, 60)\n",
    "        #find contours adn draw in rgb image\n",
    "        contours, hierarchy = cv.findContours(mask, cv.RETR_EXTERNAL, cv.CHAIN_APPROX_SIMPLE)\n",
    "        cv.drawContours(rgb, contours, -1, (0, 255, 0), 2)\n",
    "\n",
    "        for cnt in contours:\n",
    "            approx = cv.approxPolyDP(cnt, 0.05 * cv.arcLength(cnt,True),True)\n",
    "            hull = cv.convexHull(approx)\n",
    "            #print(len(approx))\n",
    "            M = cv.moments(approx)\n",
    "            if M[\"m00\"] != 0:\n",
    "                cX = int(M[\"m10\"] / M[\"m00\"])\n",
    "                cY = int(M[\"m01\"] / M[\"m00\"])\n",
    "                # draw the contour and center of the shape on the image\n",
    "                cv.circle(rgb, (cX, cY), 7, (255, 255, 255), -1)\n",
    "                cv.putText(rgb, \"center\", (cX - 20, cY - 20),\n",
    "                           cv.FONT_HERSHEY_SIMPLEX, 0.5, (255, 255, 255), 1)\n",
    "\n",
    "                cv.drawContours(rgb, hull, -1, (255, 0, 255), 3)\n",
    "                \n",
    "                # corner points of the object\n",
    "                point1 = points[hull[0][0][1]][hull[0][0][0]]\n",
    "                point2 = points[hull[1][0][1]][hull[1][0][0]]\n",
    "                point3 = points[hull[2][0][1]][hull[2][0][0]]\n",
    "                point4 = points[hull[3][0][1]][hull[3][0][0]]\n",
    "\n",
    "                # calculate distance between the points to get edges length of the centroids\n",
    "                #print(\"point1 \" + str(point1))\n",
    "                #print(\"point2 \" + str(point2))\n",
    "                dist1 = np.linalg.norm(point1-point2)\n",
    "                dist2 = np.linalg.norm(point1-point4)\n",
    "                vec1 = point1 - point2\n",
    "                vec2 = point1 - point4\n",
    "                #print(vec1)\n",
    "\n",
    "\n",
    "        if len(rgb)>0: cv.imshow('OPENCV - rgb', rgb)\n",
    "        if len(mask)>0: cv.imshow('OPENCV - mask', mask)\n",
    "\n",
    "\n",
    "\n",
    "        if cv.waitKey(1) & 0xFF == ord('q'):\n",
    "            break\n",
    "\n",
    "\n",
    "    S.step([], tau, ry.ControlMode.none)\n"
   ],
   "metadata": {
    "collapsed": false,
    "pycharm": {
     "name": "#%%\n"
    }
   }
  }
 ],
 "metadata": {
  "kernelspec": {
   "name": "pycharm-8b9e1f39",
   "language": "python",
   "display_name": "PyCharm (robotics-course)"
  },
  "language_info": {
   "codemirror_mode": {
    "name": "ipython",
    "version": 2
   },
   "file_extension": ".py",
   "mimetype": "text/x-python",
   "name": "python",
   "nbconvert_exporter": "python",
   "pygments_lexer": "ipython2",
   "version": "2.7.6"
  }
 },
 "nbformat": 4,
 "nbformat_minor": 0
}