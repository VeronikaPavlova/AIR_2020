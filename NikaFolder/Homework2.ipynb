{
 "cells": [
  {
   "cell_type": "markdown",
   "source": [
    "Motion Generation using Optimization\n",
    "------------------------------------\n",
    "\n",
    "Introduction to KOMO:\n",
    "https://github.com/MarcToussaint/rai/wiki"
   ],
   "metadata": {
    "collapsed": false,
    "pycharm": {
     "name": "#%% md\n"
    }
   }
  },
  {
   "cell_type": "code",
   "execution_count": 31,
   "metadata": {},
   "outputs": [],
   "source": [
    "#import Stuff\n",
    "import sys\n",
    "sys.path.append('../../build')\n",
    "import numpy as np\n",
    "import libry as ry"
   ]
  },
  {
   "cell_type": "code",
   "execution_count": 32,
   "metadata": {},
   "outputs": [],
   "source": [
    "C = ry.Config()\n",
    "C.addFile(\"../../scenarios/pandasTable.g\")\n",
    "\n",
    "V = ry.ConfigurationViewer()\n",
    "V.setConfiguration(C)   #update every time the view"
   ]
  },
  {
   "cell_type": "markdown",
   "source": [
    "#### Quaternion Info\n",
    "[w, x, y, z] (?) --> rotation around x, y, z 180 degree [0,1,0,0] [0,0,1,0] [0,0,0,1]\n",
    "[link for quaternion informations](https://www.euclideanspace.com/maths/geometry/rotations/conversions/eulerToQuaternion/steps/index.htm)\n"
   ],
   "metadata": {
    "collapsed": false,
    "pycharm": {
     "name": "#%% md\n"
    }
   }
  },
  {
   "cell_type": "code",
   "execution_count": 33,
   "metadata": {},
   "outputs": [],
   "source": [
    "#add object\n",
    "obj = C.addFrame(\"object\")\n",
    "obj.setPosition([.8,0,1.5])\n",
    "obj.setQuaternion([1,0,1,0])\n",
    "obj.setShape(ry.ST.capsule, [.2,.02])\n",
    "obj.setColor([1,0,1])\n",
    "obj.setMass(10.0)\n",
    "V.setConfiguration(C)"
   ]
  },
  {
   "cell_type": "markdown",
   "source": [
    "## Exersice 1\n",
    " a.) Compute a 2-arm robot configuration, where the graspCenter positions of both hands coincide, the two hands oppose, and their x-axes are orthogonal. (E.g., as if they would handover a little cube.)"
   ],
   "metadata": {
    "collapsed": false,
    "pycharm": {
     "name": "#%% md\n"
    }
   }
  },
  {
   "cell_type": "code",
   "execution_count": 8,
   "metadata": {
    "pycharm": {
     "name": "#%%\n"
    }
   },
   "outputs": [
    {
     "data": {
      "text/plain": "<libry.ConfigurationViewer at 0x7f62ed7a8ab0>"
     },
     "execution_count": 8,
     "metadata": {},
     "output_type": "execute_result"
    }
   ],
   "source": [
    "#red - x entlang gripper\n",
    "#green - y orthogonal zu gripper\n",
    "#blue - z inside gripper\n",
    "\n",
    "#Scalar product\n",
    "# A dot B = 0 --> 90 degree\n",
    "# A dot B = 1 --> 0 degree\n",
    "# A dot B = -1 --> 180 degree\n",
    "\n",
    "X0 = C.getFrameState()\n",
    "#print(C.getFrameNames())\n",
    "#C.frame(\"R_gripperCenter\").setQuaternion([0,0,0,1]) # [w, z, y, x] ????\n",
    "\n",
    "IK = C.komo_IK(False)\n",
    "IK.addObjective([], ry.FS.positionDiff, [\"R_gripperCenter\", \"L_gripperCenter\"], ry.OT.eq)\n",
    "IK.addObjective([], ry.FS.scalarProductZZ, [\"R_gripperCenter\", \"L_gripperCenter\"], ry.OT.eq, target=[-1])\n",
    "IK.addObjective([], ry.FS.scalarProductXY, [\"R_gripperCenter\", \"L_gripperCenter\"], ry.OT.eq, target=[1])\n",
    "\n",
    "IK.optimize(True)\n",
    "IK.view()\n",
    "\n",
    "#V.setConfiguration(C)"
   ]
  },
  {
   "cell_type": "markdown",
   "source": [
    "b.) Add a box (shape type ssBox, see Tip2 below) somewhere to the scene, compute a robot configuration where one of the grippers grasps the box (centered, along a particular axis), while avoiding collisions between the box and the two fingers and gripper."
   ],
   "metadata": {
    "collapsed": false,
    "pycharm": {
     "name": "#%% md\n"
    }
   }
  },
  {
   "cell_type": "markdown",
   "source": [
    "### ssBox and ssCvx\n",
    "\n",
    "ssBox - sphere-swept box. This is a box with rounded corners. This should be your default primitive shape.\n",
    "The shape is determined by 4 numbers: **x-size, y-size, z-size, radius of corners**.\n",
    "\n",
    "The 2nd most important shape type is ssCvx (sphere-swept convex), which is determined by a set of 3D points, and sphere radius that is added to the points’ convex hull.\n",
    "\n",
    "(E.g., a capsule can also be described as simple ssCvx: 2 points with a sweeping radius.) The sphere-swept shape primitives allow for well-defined Jacobians of collision features."
   ],
   "metadata": {
    "collapsed": false,
    "pycharm": {
     "name": "#%% md\n"
    }
   }
  },
  {
   "cell_type": "code",
   "execution_count": 30,
   "outputs": [],
   "source": [
    "box = C.addFrame(\"box\")\n",
    "box.setPosition([.4,0,1])\n",
    "box.setShape(ry.ST.ssBox, [.1, .1, .25, .02])\n",
    "box.setColor([0,0,1])\n",
    "box.setContact(1)\n",
    "\n",
    "C.setFrameState(X0)     # reset\n",
    "V.setConfiguration(C)"
   ],
   "metadata": {
    "collapsed": false,
    "pycharm": {
     "name": "#%%\n"
    }
   }
  },
  {
   "cell_type": "code",
   "execution_count": null,
   "outputs": [],
   "source": [
    "IK = C.komo_IK(True)\n",
    "IK.addObjective([], ry.FS.accumulatedCollisions)\n",
    "\n"
   ],
   "metadata": {
    "collapsed": false,
    "pycharm": {
     "name": "#%%\n"
    }
   }
  }
 ],
 "metadata": {
  "kernelspec": {
   "name": "pycharm-8b9e1f39",
   "language": "python",
   "display_name": "PyCharm (robotics-course)"
  },
  "language_info": {
   "codemirror_mode": {
    "name": "ipython",
    "version": 3
   },
   "file_extension": ".py",
   "mimetype": "text/x-python",
   "name": "python",
   "nbconvert_exporter": "python",
   "pygments_lexer": "ipython3",
   "version": "3.6.9"
  }
 },
 "nbformat": 4,
 "nbformat_minor": 4
}