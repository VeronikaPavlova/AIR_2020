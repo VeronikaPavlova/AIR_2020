{
 "cells": [
  {
   "cell_type": "code",
   "execution_count": 1,
   "metadata": {},
   "outputs": [],
   "source": [
    "import sys\n",
    "sys.path.append('../../build')\n",
    "import libry as ry\n",
    "import numpy as np\n",
    "import time"
   ]
  },
  {
   "cell_type": "code",
   "execution_count": 2,
   "metadata": {},
   "outputs": [],
   "source": [
    "C = ry.Config()\n",
    "C.addFile(\"../../scenarios/pandasTable.g\")\n",
    "V = ry.ConfigurationViewer()\n",
    "V.setConfiguration(C)\n",
    "\n",
    "q0 = C.getJointState()\n",
    "R_gripper = C.frame(\"R_gripper\")\n",
    "R_gripper.setContact(1)\n",
    "L_gripper = C.frame(\"L_gripper\")\n",
    "L_gripper.setContact(1)"
   ]
  },
  {
   "cell_type": "markdown",
   "metadata": {},
   "source": [
    "## Exercise 1a) handover"
   ]
  },
  {
   "cell_type": "code",
   "execution_count": 3,
   "metadata": {},
   "outputs": [
    {
     "data": {
      "text/plain": "[{'x_dim': 16, 'T': 1, 'k_order': 1, 'tau': 1.0, 'useSwift': True},\n {'order': 1.0,\n  'type': 'sos',\n  'feature': 'qItself#32',\n  'vars': [-1, 0],\n  'sos_sumOfSqr': 0.04699128688432455},\n {'order': 0.0,\n  'type': 'eq',\n  'feature': 'QuaternionNorms',\n  'vars': [0],\n  'eq_sumOfAbs': 0.0},\n {'order': 0.0,\n  'type': 'ineq',\n  'feature': 'ProxyCost',\n  'vars': [0],\n  'inEq_sumOfPos': 0.0},\n {'order': 0.0,\n  'type': 'eq',\n  'feature': 'qItself-L_finger1-R_finger1',\n  'vars': [0],\n  'eq_sumOfAbs': 2.3687058107751858e-05},\n {'order': 0.0,\n  'type': 'eq',\n  'feature': 'PairCollision-R_gripperCenter-L_gripperCenter',\n  'vars': [0],\n  'eq_sumOfAbs': 0.001716054485487222},\n {'order': 0.0,\n  'type': 'eq',\n  'feature': 'Default-0-vecAlign-R_gripperCenter-L_gripperCenter',\n  'vars': [0],\n  'eq_sumOfAbs': 1.8471072434689262e-05},\n {'order': 0.0,\n  'type': 'eq',\n  'feature': 'Default-0-vecAlign-R_gripperCenter-L_gripperCenter',\n  'vars': [0],\n  'eq_sumOfAbs': 0.002057390076772747}]"
     },
     "execution_count": 3,
     "metadata": {},
     "output_type": "execute_result"
    }
   ],
   "source": [
    "IK = C.komo_IK(True)\n",
    "IK.addObjective(feature = ry.FS.accumulatedCollisions, type = ry.OT.ineq)\n",
    "IK.addObjective(feature = ry.FS.qItself, frames = [\"L_finger1\", \"R_finger1\"], type = ry.OT.eq);\n",
    "IK.addObjective(feature = ry.FS.distance, frames = [\"R_gripperCenter\", \"L_gripperCenter\"], type = ry.OT.eq);\n",
    "IK.addObjective(feature = ry.FS.scalarProductXX, frames = [\"R_gripperCenter\", \"L_gripperCenter\"], type = ry.OT.eq);\n",
    "IK.addObjective(feature = ry.FS.scalarProductZZ, frames = [\"R_gripperCenter\", \"L_gripperCenter\"], type = ry.OT.eq, target = [-1]);\n",
    "\n",
    "IK.optimize()\n",
    "IK.getReport()"
   ]
  },
  {
   "cell_type": "code",
   "execution_count": 4,
   "metadata": {},
   "outputs": [],
   "source": [
    "C.setFrameState( IK.getConfiguration(0) )\n",
    "q1 = C.getJointState()\n",
    "V.setConfiguration(C)\n",
    "C.setJointState(q0)"
   ]
  },
  {
   "cell_type": "markdown",
   "metadata": {},
   "source": [
    "## Exercise 1b) grasps the box"
   ]
  },
  {
   "cell_type": "code",
   "execution_count": 5,
   "metadata": {},
   "outputs": [],
   "source": [
    "obj = C.addFrame(\"object\")\n",
    "obj.setPosition([0.,0,1.5])\n",
    "obj.setQuaternion([1,0,0,0])\n",
    "obj.setShape(ry.ST.ssBox, [.2,.1,.05,.02])\n",
    "obj.setColor([1,0.5,0.5])\n",
    "obj.setContact(1)\n",
    "V.setConfiguration(C)"
   ]
  },
  {
   "cell_type": "code",
   "execution_count": 6,
   "metadata": {},
   "outputs": [
    {
     "data": {
      "text/plain": "[{'x_dim': 16, 'T': 1, 'k_order': 1, 'tau': 1.0, 'useSwift': True},\n {'order': 1.0,\n  'type': 'sos',\n  'feature': 'qItself#32',\n  'vars': [-1, 0],\n  'sos_sumOfSqr': 0.014371427223851051},\n {'order': 0.0,\n  'type': 'eq',\n  'feature': 'QuaternionNorms',\n  'vars': [0],\n  'eq_sumOfAbs': 0.0},\n {'order': 0.0,\n  'type': 'ineq',\n  'feature': 'ProxyCost',\n  'vars': [0],\n  'inEq_sumOfPos': 0.0},\n {'order': 0.0,\n  'type': 'eq',\n  'feature': 'qItself-R_finger1-L_finger1',\n  'vars': [0],\n  'eq_sumOfAbs': 2.3948904558901914e-30},\n {'order': 0.0,\n  'type': 'sos',\n  'feature': 'Default-0-posDiff-R_gripperCenter-object',\n  'vars': [0],\n  'sos_sumOfSqr': 0.003068090415975622},\n {'order': 0.0,\n  'type': 'ineq',\n  'feature': 'PairCollision-R_gripperCenter-object',\n  'vars': [0],\n  'inEq_sumOfPos': 0.0},\n {'order': 0.0,\n  'type': 'eq',\n  'feature': 'Default-0-vecAlign-R_gripperCenter-object',\n  'vars': [0],\n  'eq_sumOfAbs': 2.6572610720587697e-05},\n {'order': 0.0,\n  'type': 'eq',\n  'feature': 'Default-0-vecAlign-R_gripperCenter-object',\n  'vars': [0],\n  'eq_sumOfAbs': 4.054283889476373e-05}]"
     },
     "execution_count": 6,
     "metadata": {},
     "output_type": "execute_result"
    }
   ],
   "source": [
    "IK2 = C.komo_IK(True)\n",
    "IK2.addObjective(feature = ry.FS.accumulatedCollisions, type = ry.OT.ineq, scale = [1e2])\n",
    "IK2.addObjective(feature = ry.FS.qItself, frames = [\"R_finger1\", \"L_finger1\"], type = ry.OT.eq, scale = [1e2]);\n",
    "IK2.addObjective(feature = ry.FS.positionDiff, frames = [\"R_gripperCenter\", \"object\"], type = ry.OT.sos);\n",
    "IK2.addObjective(feature = ry.FS.distance, frames = [\"R_gripperCenter\", \"object\"], type = ry.OT.ineq, scale = [-1e2]);\n",
    "IK2.addObjective(feature = ry.FS.scalarProductXX, frames = [\"R_gripperCenter\", \"object\"], type = ry.OT.eq);\n",
    "IK2.addObjective(feature = ry.FS.scalarProductXY, frames = [\"R_gripperCenter\", \"object\"], type = ry.OT.eq);\n",
    "\n",
    "IK2.optimize()\n",
    "IK2.getReport()"
   ]
  },
  {
   "cell_type": "code",
   "execution_count": 7,
   "metadata": {},
   "outputs": [],
   "source": [
    "C.setFrameState( IK2.getConfiguration(0) )\n",
    "q2 = C.getJointState()\n",
    "V.setConfiguration(C)\n",
    "C.setJointState(q0)"
   ]
  },
  {
   "cell_type": "markdown",
   "metadata": {},
   "source": [
    "## Exercise 2a,b) compute/execute a motion profile"
   ]
  },
  {
   "cell_type": "code",
   "execution_count": 3,
   "metadata": {},
   "outputs": [
    {
     "data": {
      "text/plain": "<libry.CameraViewSensor at 0x7f06fcce7880>"
     },
     "execution_count": 3,
     "metadata": {},
     "output_type": "execute_result"
    }
   ],
   "source": [
    "S = C.simulation(ry.SimulatorEngine.physx, True)\n",
    "S.addSensor(\"camera\")"
   ]
  },
  {
   "cell_type": "code",
   "execution_count": 5,
   "metadata": {},
   "outputs": [
    {
     "ename": "NameError",
     "evalue": "name 'q2' is not defined",
     "output_type": "error",
     "traceback": [
      "\u001B[0;31m---------------------------------------------------------------------------\u001B[0m",
      "\u001B[0;31mNameError\u001B[0m                                 Traceback (most recent call last)",
      "\u001B[0;32m<ipython-input-5-21f21f4c09d3>\u001B[0m in \u001B[0;36m<module>\u001B[0;34m\u001B[0m\n\u001B[1;32m      5\u001B[0m     \u001B[0mtheta\u001B[0m \u001B[0;34m=\u001B[0m \u001B[0;34m-\u001B[0m\u001B[0mnp\u001B[0m\u001B[0;34m.\u001B[0m\u001B[0mpi\u001B[0m\u001B[0;34m/\u001B[0m\u001B[0;36m2\u001B[0m \u001B[0;34m+\u001B[0m \u001B[0mt\u001B[0m\u001B[0;34m/\u001B[0m\u001B[0;34m(\u001B[0m\u001B[0mT\u001B[0m\u001B[0;34m-\u001B[0m\u001B[0;36m1\u001B[0m\u001B[0;34m)\u001B[0m\u001B[0;34m*\u001B[0m\u001B[0mnp\u001B[0m\u001B[0;34m.\u001B[0m\u001B[0mpi\u001B[0m\u001B[0;34m\u001B[0m\u001B[0;34m\u001B[0m\u001B[0m\n\u001B[1;32m      6\u001B[0m \u001B[0;31m#     motionProfile[t] = q0 + (q1-q0)*(0.5+0.5*np.sin(theta))\u001B[0m\u001B[0;34m\u001B[0m\u001B[0;34m\u001B[0m\u001B[0;34m\u001B[0m\u001B[0m\n\u001B[0;32m----> 7\u001B[0;31m     \u001B[0mmotionProfile\u001B[0m\u001B[0;34m[\u001B[0m\u001B[0mt\u001B[0m\u001B[0;34m]\u001B[0m \u001B[0;34m=\u001B[0m \u001B[0mq0\u001B[0m \u001B[0;34m+\u001B[0m \u001B[0;34m(\u001B[0m\u001B[0mq2\u001B[0m\u001B[0;34m-\u001B[0m\u001B[0mq0\u001B[0m\u001B[0;34m)\u001B[0m\u001B[0;34m*\u001B[0m\u001B[0;34m(\u001B[0m\u001B[0;36m0.5\u001B[0m\u001B[0;34m+\u001B[0m\u001B[0;36m0.5\u001B[0m\u001B[0;34m*\u001B[0m\u001B[0mnp\u001B[0m\u001B[0;34m.\u001B[0m\u001B[0msin\u001B[0m\u001B[0;34m(\u001B[0m\u001B[0mtheta\u001B[0m\u001B[0;34m)\u001B[0m\u001B[0;34m)\u001B[0m\u001B[0;34m\u001B[0m\u001B[0;34m\u001B[0m\u001B[0m\n\u001B[0m\u001B[1;32m      8\u001B[0m \u001B[0;34m\u001B[0m\u001B[0m\n\u001B[1;32m      9\u001B[0m \u001B[0;32mfor\u001B[0m \u001B[0mt\u001B[0m \u001B[0;32min\u001B[0m \u001B[0mrange\u001B[0m\u001B[0;34m(\u001B[0m\u001B[0mT\u001B[0m\u001B[0;34m)\u001B[0m\u001B[0;34m:\u001B[0m\u001B[0;34m\u001B[0m\u001B[0;34m\u001B[0m\u001B[0m\n",
      "\u001B[0;31mNameError\u001B[0m: name 'q2' is not defined"
     ]
    }
   ],
   "source": [
    "tau = .01\n",
    "T = 20\n",
    "motionProfile = np.zeros((T,q0.shape[0]))\n",
    "for t in range(T):\n",
    "    theta = -np.pi/2 + t/(T-1)*np.pi\n",
    "#     motionProfile[t] = q0 + (q1-q0)*(0.5+0.5*np.sin(theta))\n",
    "    motionProfile[t] = q0 + (q2-q0)*(0.5+0.5*np.sin(theta))\n",
    "    \n",
    "for t in range(T):\n",
    "    q = motionProfile[t]\n",
    "    S.step(q, tau, ry.ControlMode.position)\n",
    "    time.sleep(0.1)"
   ]
  },
  {
   "cell_type": "markdown",
   "metadata": {},
   "source": [
    "## Exercise 2c) path optimization"
   ]
  },
  {
   "cell_type": "code",
   "execution_count": 6,
   "metadata": {},
   "outputs": [
    {
     "ename": "NameError",
     "evalue": "name 'q1' is not defined",
     "output_type": "error",
     "traceback": [
      "\u001B[0;31m---------------------------------------------------------------------------\u001B[0m",
      "\u001B[0;31mNameError\u001B[0m                                 Traceback (most recent call last)",
      "\u001B[0;32m<ipython-input-6-292e712da03b>\u001B[0m in \u001B[0;36m<module>\u001B[0;34m\u001B[0m\n\u001B[1;32m      2\u001B[0m \u001B[0mC\u001B[0m\u001B[0;34m.\u001B[0m\u001B[0msetJointState\u001B[0m\u001B[0;34m(\u001B[0m\u001B[0mq0\u001B[0m\u001B[0;34m)\u001B[0m\u001B[0;34m\u001B[0m\u001B[0;34m\u001B[0m\u001B[0m\n\u001B[1;32m      3\u001B[0m \u001B[0mkomo\u001B[0m \u001B[0;34m=\u001B[0m \u001B[0mC\u001B[0m\u001B[0;34m.\u001B[0m\u001B[0mkomo_path\u001B[0m\u001B[0;34m(\u001B[0m\u001B[0;36m1\u001B[0m\u001B[0;34m,\u001B[0m \u001B[0mT\u001B[0m\u001B[0;34m,\u001B[0m \u001B[0mT\u001B[0m\u001B[0;34m*\u001B[0m\u001B[0mtau\u001B[0m\u001B[0;34m,\u001B[0m \u001B[0;32mTrue\u001B[0m\u001B[0;34m)\u001B[0m\u001B[0;34m\u001B[0m\u001B[0;34m\u001B[0m\u001B[0m\n\u001B[0;32m----> 4\u001B[0;31m \u001B[0mkomo\u001B[0m\u001B[0;34m.\u001B[0m\u001B[0maddObjective\u001B[0m\u001B[0;34m(\u001B[0m\u001B[0mtime\u001B[0m\u001B[0;34m=\u001B[0m\u001B[0;34m[\u001B[0m\u001B[0;36m1.\u001B[0m\u001B[0;34m]\u001B[0m\u001B[0;34m,\u001B[0m \u001B[0mfeature\u001B[0m\u001B[0;34m=\u001B[0m\u001B[0mry\u001B[0m\u001B[0;34m.\u001B[0m\u001B[0mFS\u001B[0m\u001B[0;34m.\u001B[0m\u001B[0mqItself\u001B[0m\u001B[0;34m,\u001B[0m \u001B[0mtype\u001B[0m\u001B[0;34m=\u001B[0m\u001B[0mry\u001B[0m\u001B[0;34m.\u001B[0m\u001B[0mOT\u001B[0m\u001B[0;34m.\u001B[0m\u001B[0meq\u001B[0m\u001B[0;34m,\u001B[0m \u001B[0mtarget\u001B[0m\u001B[0;34m=\u001B[0m\u001B[0mq1\u001B[0m\u001B[0;34m,\u001B[0m \u001B[0mscale\u001B[0m\u001B[0;34m=\u001B[0m\u001B[0;34m[\u001B[0m\u001B[0;36m1e2\u001B[0m\u001B[0;34m]\u001B[0m\u001B[0;34m,\u001B[0m \u001B[0morder\u001B[0m\u001B[0;34m=\u001B[0m\u001B[0;36m0\u001B[0m\u001B[0;34m)\u001B[0m\u001B[0;34m\u001B[0m\u001B[0;34m\u001B[0m\u001B[0m\n\u001B[0m\u001B[1;32m      5\u001B[0m \u001B[0;31m# komo.addObjective(time=[1.], feature=ry.FS.qItself, type=ry.OT.eq, target=q2, scale=[1e2], order=0)\u001B[0m\u001B[0;34m\u001B[0m\u001B[0;34m\u001B[0m\u001B[0;34m\u001B[0m\u001B[0m\n\u001B[1;32m      6\u001B[0m \u001B[0mkomo\u001B[0m\u001B[0;34m.\u001B[0m\u001B[0maddObjective\u001B[0m\u001B[0;34m(\u001B[0m\u001B[0mtime\u001B[0m\u001B[0;34m=\u001B[0m\u001B[0;34m[\u001B[0m\u001B[0;36m1.\u001B[0m\u001B[0;34m]\u001B[0m\u001B[0;34m,\u001B[0m \u001B[0mfeature\u001B[0m\u001B[0;34m=\u001B[0m\u001B[0mry\u001B[0m\u001B[0;34m.\u001B[0m\u001B[0mFS\u001B[0m\u001B[0;34m.\u001B[0m\u001B[0mqItself\u001B[0m\u001B[0;34m,\u001B[0m \u001B[0mtype\u001B[0m\u001B[0;34m=\u001B[0m\u001B[0mry\u001B[0m\u001B[0;34m.\u001B[0m\u001B[0mOT\u001B[0m\u001B[0;34m.\u001B[0m\u001B[0meq\u001B[0m\u001B[0;34m,\u001B[0m \u001B[0mscale\u001B[0m\u001B[0;34m=\u001B[0m\u001B[0;34m[\u001B[0m\u001B[0;36m1e2\u001B[0m\u001B[0;34m]\u001B[0m\u001B[0;34m,\u001B[0m \u001B[0morder\u001B[0m\u001B[0;34m=\u001B[0m\u001B[0;36m1\u001B[0m\u001B[0;34m)\u001B[0m\u001B[0;34m\u001B[0m\u001B[0;34m\u001B[0m\u001B[0m\n",
      "\u001B[0;31mNameError\u001B[0m: name 'q1' is not defined"
     ]
    }
   ],
   "source": [
    "T = 20\n",
    "C.setJointState(q0)\n",
    "komo = C.komo_path(1, T, T*tau, True)\n",
    "komo.addObjective(time=[1.], feature=ry.FS.qItself, type=ry.OT.eq, target=q1, scale=[1e2], order=0)\n",
    "# komo.addObjective(time=[1.], feature=ry.FS.qItself, type=ry.OT.eq, target=q2, scale=[1e2], order=0)\n",
    "komo.addObjective(time=[1.], feature=ry.FS.qItself, type=ry.OT.eq, scale=[1e2], order=1)\n",
    "komo.addObjective(feature=ry.FS.accumulatedCollisions, type=ry.OT.ineq, scale=[1e2], target=[-0.02])\n",
    "komo.optimize()\n",
    "komo.getReport()\n",
    "\n",
    "for t in range(T):\n",
    "    C.setFrameState(komo.getConfiguration(t))\n",
    "    q = C.getJointState()\n",
    "    S.step(q, tau, ry.ControlMode.position)\n",
    "    time.sleep(0.1)"
   ]
  },
  {
   "cell_type": "code",
   "execution_count": 11,
   "metadata": {},
   "outputs": [],
   "source": [
    "# V2 = komo.view()\n",
    "# V2.playVideo()"
   ]
  }
 ],
 "metadata": {
  "kernelspec": {
   "name": "pycharm-8b9e1f39",
   "language": "python",
   "display_name": "PyCharm (robotics-course)"
  },
  "language_info": {
   "codemirror_mode": {
    "name": "ipython",
    "version": 3
   },
   "file_extension": ".py",
   "mimetype": "text/x-python",
   "name": "python",
   "nbconvert_exporter": "python",
   "pygments_lexer": "ipython3",
   "version": "3.6.9"
  }
 },
 "nbformat": 4,
 "nbformat_minor": 4
}